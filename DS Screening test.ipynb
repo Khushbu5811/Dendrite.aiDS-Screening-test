{
 "cells": [
  {
   "cell_type": "markdown",
   "id": "d5efc48e",
   "metadata": {},
   "source": [
    "## Name :- Khushbu Amol Suryawanshi\n",
    "* Course - M.Sc Statistics \n",
    "* Email - 1132220505@mitwpu.edu.in\n",
    "* (mailto:1132220505@mitwpu.edu.in)\n"
   ]
  },
  {
   "cell_type": "code",
   "execution_count": 1,
   "id": "5be955ba",
   "metadata": {},
   "outputs": [],
   "source": [
    "import json\n",
    "import pandas as pd\n",
    "from sklearn.model_selection import train_test_split\n",
    "from sklearn.preprocessing import StandardScaler\n",
    "from sklearn.feature_selection import SelectFromModel\n",
    "from sklearn.ensemble import RandomForestRegressor\n",
    "from sklearn.linear_model import LinearRegression\n",
    "from sklearn.model_selection import GridSearchCV\n",
    "from sklearn.metrics import mean_squared_error, r2_score"
   ]
  },
  {
   "cell_type": "code",
   "execution_count": 4,
   "id": "43c1b830",
   "metadata": {},
   "outputs": [],
   "source": [
    "def parse_json(json_file):\n",
    " with open(json_file, 'r') as f:\n",
    "    json_data = json.load(f)\n",
    " # Extract relevant information from JSON\n",
    " dataset_name = json_data['dataset_name']\n",
    " target_variable = json_data['target_variable']\n",
    " prediction_type = json_data['prediction_type']\n",
    " feature_handling = json_data['feature_handling']\n",
    " feature_reduction_method = json_data['feature_reduction_method']\n",
    " selected_algorithms = json_data['selected_algorithms']\n",
    " hyperparameters = json_data['hyperparameters']\n",
    " return dataset_name, target_variable, prediction_type, feature_handling, feature_reduction_method, selected_algorithms,hyperparameters"
   ]
  },
  {
   "cell_type": "code",
   "execution_count": 8,
   "id": "52fb4bcb",
   "metadata": {},
   "outputs": [],
   "source": [
    "def load_and_preprocess_data(csv_file):\n",
    " # Load dataset\n",
    " dataset = pd.read_csv(csv_file)\n",
    " # Handle missing values if any\n",
    " dataset.dropna(inplace=True)\n",
    " # Encode categorical variables if any using label encoding or OHE\n",
    " # Split data into features and target variable\n",
    " X = dataset.drop(columns=[target_variable])\n",
    " y = dataset[target_variable]\n",
    " # Split data into train and test sets\n",
    " X_train, X_test, y_train, y_test = train_test_split(X, y, test_size=0.2, random_state = 0)\n",
    " # Perform feature scaling\n",
    "# Create one instance for StandardScaler\n",
    " scaler = StandardScaler()\n",
    " X_train_scaled = scaler.fit_transform(X_train)\n",
    " X_test_scaled = scaler.transform(X_test)\n",
    " return X_train_scaled, X_test_scaled, y_train, y_test"
   ]
  },
  {
   "cell_type": "code",
   "execution_count": 18,
   "id": "b9d1c0d4",
   "metadata": {},
   "outputs": [],
   "source": [
    "def feature_reduction(X_train, X_test, y_train, feature_reduction_method):\n",
    "     if feature_reduction_method == 'tree_based':\n",
    "            # Use RandomForestRegressor for feature selection\n",
    "            selector_variable = SelectFromModel(RandomForestRegressor())\n",
    "            X_train_selected = selector_variable.fit_transform(X_train, y_train)\n",
    "            X_test_selected = selector_variable.transform(X_test)\n",
    "            return X_train_selected, X_test_selected\n",
    "     else:\n",
    "        return X_train, X_test # No feature reduction            "
   ]
  },
  {
   "cell_type": "code",
   "execution_count": 23,
   "id": "c00b40ef",
   "metadata": {},
   "outputs": [],
   "source": [
    "from sklearn.linear_model import LinearRegression, LogisticRegression\n",
    "from sklearn.ensemble import RandomForestRegressor, RandomForestClassifier, GradientBoostingRegressor, GradientBoostingClassifier\n",
    "from sklearn.tree import DecisionTreeRegressor, DecisionTreeClassifier\n",
    "from sklearn.svm import SVR, SVC\n",
    "from sklearn.neighbors import KNeighborsRegressor, KNeighborsClassifier\n",
    "from sklearn.linear_model import SGDRegressor, SGDClassifier\n",
    "from sklearn.ensemble import ExtraTreesRegressor, ExtraTreesClassifier\n",
    "from sklearn.neural_network import MLPRegressor, MLPClassifier\n",
    "from sklearn.kernel_ridge import KernelRidge\n",
    "from xgboost import XGBRegressor, XGBClassifier\n",
    "\n",
    "def create_models(selected_algorithms):\n",
    "    models = []\n",
    "    for algorithm in selected_algorithms:\n",
    "        if algorithm == 'LinearRegression':\n",
    "             models.append(('Linear Regression', LinearRegression()))\n",
    "        elif algorithm == 'LogisticsRegression':\n",
    "            models.append(('Logistic Regression', LogisticRegression()))\n",
    "        elif algorithm == 'RandomForestRegressor':\n",
    "            models.append(('Random Forest Regressor', RandomForestRegressor()))\n",
    "        elif algorithm == 'RandomForestClassifier':\n",
    "            models.append(('Random Forest Classifier', RandomForestClassifier()))\n",
    "        elif algorithm == 'GradientBoostingRegressor':\n",
    "            models.append(('Gradient Boosting Regressor', GradientBoostingRegressor()))\n",
    "        elif algorithm == 'GradientBoostingClassifier':\n",
    "            models.append(('Gradient Boosting Classifier', GradientBoostingClassifier()))\n",
    "        elif algorithm == 'DecisionTreeRegressor':\n",
    "             models.append(('Decision Tree Regressor', DecisionTreeRegressor()))\n",
    "        elif algorithm == 'DecisionTreeClassifier':\n",
    "            models.append(('Decision Tree Classifier', DecisionTreeClassifier()))\n",
    "        elif algorithm == 'SVR':\n",
    "            models.append(('Support Vector Regressor', SVR()))\n",
    "        elif algorithm == 'SVC':\n",
    "            models.append(('Support Vector Classifier', SVC()))\n",
    "        elif algorithm == 'KNeighborsRegressor':\n",
    "            models.append(('K Neighbors Regressor', KNeighborsRegressor()))\n",
    "        elif algorithm == 'KNeighborsClassifier':\n",
    "            models.append(('K Neighbors Classifier', KNeighborsClassifier()))\n",
    "        elif algorithm == 'SGDRegressor':\n",
    "            models.append(('Stochastic Gradient Descent Regressor', SGDRegressor()))\n",
    "        elif algorithm == 'SGDClassifier':\n",
    "            models.append(('Stochastic Gradient Descent Classifier', SGDClassifier()))\n",
    "        elif algorithm == 'ExtraTreesRegressor':\n",
    "            models.append(('Extra Trees Regressor', ExtraTreesRegressor()))\n",
    "        elif algorithm == 'ExtraTreesClassifier':\n",
    "            models.append(('Extra Trees Classifier', ExtraTreesClassifier()))\n",
    "        elif algorithm == 'MLPRegressor':\n",
    "            models.append(('Multi-layer Perceptron Regressor', MLPRegressor()))\n",
    "        elif algorithm == 'MLPClassifier':\n",
    "            models.append(('Multi-layer Perceptron Classifier' , MLPClassifier()))\n",
    "        elif algorithm == 'KernelRidge':\n",
    "             models.append(('Kernel Ridge', KernelRidge()))\n",
    "        elif algorithm == 'XGBRegressor':\n",
    "             models.append(('XGBoost Regressor', XGBRegressor()))\n",
    "        elif algorithm == 'XGBClassifier':\n",
    "             models.append(('XGBoost Classifier', XGBClassifier()))\n",
    "        # Add more models as needed\n",
    "    return models\n",
    " "
   ]
  },
  {
   "cell_type": "code",
   "execution_count": 24,
   "id": "2842da92",
   "metadata": {},
   "outputs": [],
   "source": [
    "from sklearn.model_selection import GridSearchCV\n",
    "\n",
    "def hyperparameter_tuning(models, hyperparameters, X_train, y_train):\n",
    "    tuned_models = []\n",
    "    for name, model in models:\n",
    "        if name in hyperparameters:\n",
    "            param_grid = hyperparameters[name]\n",
    "            grid_search = GridSearchCV(model, param_grid, cv=5, scoring='accuracy')\n",
    "            grid_search.fit(X_train, y_train)\n",
    "            tuned_models.append((name, grid_search.best_estimator_))\n",
    "        else:\n",
    "            tuned_models.append((name, model))\n",
    "    return tuned_models"
   ]
  },
  {
   "cell_type": "code",
   "execution_count": 26,
   "id": "1d8fb3a4",
   "metadata": {},
   "outputs": [],
   "source": [
    "def evaluate_models(models, X_test, y_test):\n",
    "    results = {}\n",
    "    for name, model in models:\n",
    "        y_pred = model.predict(X_test)\n",
    "        MSE = mean_squared_error(y_test, y_pred)\n",
    "        results[name] = {'Mean Squared Error': MSE, 'R-squared': r2}\n",
    "    return results"
   ]
  },
  {
   "cell_type": "code",
   "execution_count": null,
   "id": "bbac9448",
   "metadata": {},
   "outputs": [],
   "source": []
  }
 ],
 "metadata": {
  "kernelspec": {
   "display_name": "Python 3 (ipykernel)",
   "language": "python",
   "name": "python3"
  },
  "language_info": {
   "codemirror_mode": {
    "name": "ipython",
    "version": 3
   },
   "file_extension": ".py",
   "mimetype": "text/x-python",
   "name": "python",
   "nbconvert_exporter": "python",
   "pygments_lexer": "ipython3",
   "version": "3.11.4"
  }
 },
 "nbformat": 4,
 "nbformat_minor": 5
}
